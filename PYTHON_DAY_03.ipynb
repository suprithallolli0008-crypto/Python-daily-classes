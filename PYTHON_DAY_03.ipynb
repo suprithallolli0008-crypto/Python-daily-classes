{
  "nbformat": 4,
  "nbformat_minor": 0,
  "metadata": {
    "colab": {
      "provenance": []
    },
    "kernelspec": {
      "name": "python3",
      "display_name": "Python 3"
    },
    "language_info": {
      "name": "python"
    }
  },
  "cells": [
    {
      "cell_type": "code",
      "source": [
        "Example=(11,\"sumit\",3.12,False,22)\n",
        "print(Example)\n",
        "print(len(Example))\n",
        "print(type(Example))\n",
        "print(Example.count(11))\n",
        "print(Example[0:3])\n",
        "print(Example[4])\n",
        "print(Example[-1])\n",
        "print(Example[::-1])\n"
      ],
      "metadata": {
        "colab": {
          "base_uri": "https://localhost:8080/"
        },
        "id": "9gKr-XpjhGpg",
        "outputId": "cf35895e-37f0-4d6d-94bc-094f08e99017"
      },
      "execution_count": null,
      "outputs": [
        {
          "output_type": "stream",
          "name": "stdout",
          "text": [
            "(11, 'sumit', 3.12, False, 22)\n",
            "5\n",
            "<class 'tuple'>\n",
            "1\n",
            "(11, 'sumit', 3.12)\n",
            "22\n",
            "22\n",
            "(22, False, 3.12, 'sumit', 11)\n"
          ]
        }
      ]
    },
    {
      "cell_type": "code",
      "source": [
        "Number=(2,4,7,9,3,9,3,2)\n",
        "print(Number)\n",
        "Add=(2,4,5,7)\n",
        "print(Number+Add)\n",
        "print(Add*4)\n",
        "print(type[0:5])"
      ],
      "metadata": {
        "colab": {
          "base_uri": "https://localhost:8080/"
        },
        "id": "lEV6VvZblXmo",
        "outputId": "13eb5770-3240-42fc-d770-9ad1a000742f"
      },
      "execution_count": null,
      "outputs": [
        {
          "output_type": "stream",
          "name": "stdout",
          "text": [
            "(2, 4, 7, 9, 3, 9, 3, 2)\n",
            "(2, 4, 7, 9, 3, 9, 3, 2, 2, 4, 5, 7)\n",
            "(2, 4, 5, 7, 2, 4, 5, 7, 2, 4, 5, 7, 2, 4, 5, 7)\n",
            "type[slice(0, 5, None)]\n"
          ]
        }
      ]
    },
    {
      "cell_type": "code",
      "source": [
        "Example={1,1,2,3,4,5,6}\n",
        "print(Example)\n",
        "print(type(Example))\n",
        "print(len(Example))\n",
        "Example.add(10)\n",
        "print(Example)\n",
        "Example.add(\"sumit\")\n",
        "print(Example)\n",
        "print(type(Example))\n",
        "Example={1,2,2,3,4,4,5,6,7}\n",
        "print(Example)\n",
        "print(type(Example))\n",
        "print(len(Example))\n",
        "Example.add(\"BKC\")\n",
        "print(Example)\n",
        "Example.add(5.67)\n",
        "print(Example)\n",
        "Example.add(\"True\")\n",
        "print(Example)\n",
        "Example.remove(4)\n",
        "print(Example)\n",
        "print(Example.pop())\n",
        "print(Example)\n",
        "\n"
      ],
      "metadata": {
        "colab": {
          "base_uri": "https://localhost:8080/"
        },
        "id": "eYKCfO_foU2X",
        "outputId": "ae55685a-5567-48c3-fecc-4aebc609ed3f"
      },
      "execution_count": null,
      "outputs": [
        {
          "output_type": "stream",
          "name": "stdout",
          "text": [
            "{1, 2, 3, 4, 5, 6}\n",
            "<class 'set'>\n",
            "6\n",
            "{1, 2, 3, 4, 5, 6, 10}\n",
            "{1, 2, 3, 4, 5, 6, 'sumit', 10}\n",
            "<class 'set'>\n",
            "{1, 2, 3, 4, 5, 6, 7}\n",
            "<class 'set'>\n",
            "7\n",
            "{1, 2, 3, 4, 5, 6, 7, 'BKC'}\n",
            "{1, 2, 3, 4, 5, 6, 7, 5.67, 'BKC'}\n",
            "{1, 2, 3, 4, 5, 6, 7, 5.67, 'True', 'BKC'}\n",
            "{1, 2, 3, 5, 6, 7, 5.67, 'True', 'BKC'}\n",
            "1\n",
            "{2, 3, 5, 6, 7, 5.67, 'True', 'BKC'}\n"
          ]
        }
      ]
    },
    {
      "cell_type": "code",
      "source": [
        "first={1,2,3,4,4,2}\n",
        "second={3,5,4,6}\n",
        "print(first|second)\n",
        "print(first.union(second))\n",
        "print(first&second)\n",
        "print(first.intersection(second))\n",
        "print(first-second)\n",
        "print(first.difference(second))\n",
        "print(second-first)\n",
        "print(second.difference(first))"
      ],
      "metadata": {
        "id": "UH6Ci6wy6EKB"
      },
      "execution_count": null,
      "outputs": []
    },
    {
      "cell_type": "code",
      "source": [
        "Dict={\"Roll_number\":201,\"Name\":\"Raichur\",\"CGP\":7.53,\"Course\":\"MCA\",\"Year\":2022}\n",
        "print(Dict)\n",
        "print(len(Dict))\n",
        "Dict[\"Gender\"]=\"Male\"\n",
        "print(Dict)\n",
        "Dict[\"College \"]=\"BKC\"\n",
        "print(Dict)\n",
        "Dict[\"College\"]=\"BK BCA\"\n",
        "print(Dict)\n",
        "del Dict[\"Gender\"]\n",
        "print(Dict)\n",
        "Dict[\"Gender\"]=\"Male\"\n",
        "print(Dict)\n",
        "print(Dict[\"College\"])\n",
        "Dict[\"Age\"]=26\n",
        "print(Dict)\n",
        "print(Dict[\"Age\"])\n",
        "Dict[\"Address\"]=\"shirguppi\"\n",
        "print(Dict)\n",
        "del Dict[\"Address\"]\n",
        "print(Dict)\n",
        "Dict.popitem()\n",
        "print(Dict)\n",
        "print(Dict.keys())\n",
        "print(Dict.values())\n",
        "print(Dict.item())\n",
        "print(Dict.clear())\n",
        "\n"
      ],
      "metadata": {
        "id": "oaWMM-rcFfmn"
      },
      "execution_count": null,
      "outputs": []
    }
  ]
}