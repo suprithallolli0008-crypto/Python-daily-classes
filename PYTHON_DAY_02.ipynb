{
  "nbformat": 4,
  "nbformat_minor": 0,
  "metadata": {
    "colab": {
      "provenance": []
    },
    "kernelspec": {
      "name": "python3",
      "display_name": "Python 3"
    },
    "language_info": {
      "name": "python"
    }
  },
  "cells": [
    {
      "cell_type": "code",
      "source": [
        "a,b,c =\"Good\",\"Morning\",\"sir\"\n",
        "print(a,b,c)"
      ],
      "metadata": {
        "colab": {
          "base_uri": "https://localhost:8080/"
        },
        "id": "jttV9ACVLZDA",
        "outputId": "0762924a-5e48-435e-c4b1-11c2d087c5ce"
      },
      "execution_count": 5,
      "outputs": [
        {
          "output_type": "stream",
          "name": "stdout",
          "text": [
            "Good Morning sir\n"
          ]
        }
      ]
    },
    {
      "cell_type": "code",
      "source": [
        "Name , College , Degree , Roll=\"Sumit Tanaji Lagale\",\"Bk\",\"BCA\",178\n",
        "print(\"Hi,Good morning,I'm\",Name,\"i'm studying\",Degree,\"in\",College,\"college at chikodi\",\"My roll number is\",Roll)"
      ],
      "metadata": {
        "colab": {
          "base_uri": "https://localhost:8080/"
        },
        "id": "q6J3nJoJMU-B",
        "outputId": "801cc679-28a1-4c12-af03-f991f49ed3fb"
      },
      "execution_count": 13,
      "outputs": [
        {
          "output_type": "stream",
          "name": "stdout",
          "text": [
            "Hi,Good morning,I'm Sumit Tanaji Lagale i'm studying BCA in Bk college at chikodi My roll number is 178\n"
          ]
        }
      ]
    },
    {
      "cell_type": "code",
      "source": [
        "x=y=z=1001\n",
        "print(x,y,z)"
      ],
      "metadata": {
        "colab": {
          "base_uri": "https://localhost:8080/"
        },
        "id": "4Z_n7-sBQC2H",
        "outputId": "99b853ac-cc78-4e3b-da0d-2e1220c8abe8"
      },
      "execution_count": 84,
      "outputs": [
        {
          "output_type": "stream",
          "name": "stdout",
          "text": [
            "1001 1001 1001\n"
          ]
        }
      ]
    },
    {
      "cell_type": "code",
      "source": [
        "a=b=c=\"college\",25\n",
        "print(b,c,a)"
      ],
      "metadata": {
        "colab": {
          "base_uri": "https://localhost:8080/"
        },
        "id": "3-CvG7YsQhXe",
        "outputId": "03a7f0c5-dd92-4c5d-efef-beb9405c2e6f"
      },
      "execution_count": 16,
      "outputs": [
        {
          "output_type": "stream",
          "name": "stdout",
          "text": [
            "('college', 25) ('college', 25) ('college', 25)\n"
          ]
        }
      ]
    },
    {
      "cell_type": "code",
      "source": [
        "a=10\n",
        "b=20\n",
        "print(\"addition of \",a,\"and\",b,\"is\",a+b)"
      ],
      "metadata": {
        "colab": {
          "base_uri": "https://localhost:8080/"
        },
        "id": "S57pck6CQ9ON",
        "outputId": "a755dcbd-4c1f-457c-d47b-16622384e13d"
      },
      "execution_count": 18,
      "outputs": [
        {
          "output_type": "stream",
          "name": "stdout",
          "text": [
            "addition of  10 and 20 is 30\n"
          ]
        }
      ]
    },
    {
      "cell_type": "code",
      "source": [
        " a=10\n",
        " print(type(a))"
      ],
      "metadata": {
        "colab": {
          "base_uri": "https://localhost:8080/"
        },
        "id": "oh0QuYqMUK_D",
        "outputId": "4ca822bf-f524-496a-a2a8-96cf79f60c16"
      },
      "execution_count": 19,
      "outputs": [
        {
          "output_type": "stream",
          "name": "stdout",
          "text": [
            "<class 'int'>\n"
          ]
        }
      ]
    },
    {
      "cell_type": "code",
      "source": [
        "x=35\n",
        "print(type(x))"
      ],
      "metadata": {
        "colab": {
          "base_uri": "https://localhost:8080/"
        },
        "id": "6orVMFF1VkPr",
        "outputId": "08db8e82-9ee7-423f-99c3-5f523df499e3"
      },
      "execution_count": 20,
      "outputs": [
        {
          "output_type": "stream",
          "name": "stdout",
          "text": [
            "<class 'int'>\n"
          ]
        }
      ]
    },
    {
      "cell_type": "code",
      "source": [
        "x=-100\n",
        "print(type(x))"
      ],
      "metadata": {
        "colab": {
          "base_uri": "https://localhost:8080/"
        },
        "id": "EiIO6C7oXQci",
        "outputId": "151bee89-d6c4-4674-b4de-c030ad1ee8f2"
      },
      "execution_count": 21,
      "outputs": [
        {
          "output_type": "stream",
          "name": "stdout",
          "text": [
            "<class 'int'>\n"
          ]
        }
      ]
    },
    {
      "cell_type": "code",
      "source": [
        "s=+200\n",
        "print(type(+200))"
      ],
      "metadata": {
        "colab": {
          "base_uri": "https://localhost:8080/"
        },
        "id": "77iaYDCFXXer",
        "outputId": "dcdf801c-0ffd-44c2-bbf3-e066b551acfc"
      },
      "execution_count": 22,
      "outputs": [
        {
          "output_type": "stream",
          "name": "stdout",
          "text": [
            "<class 'int'>\n"
          ]
        }
      ]
    },
    {
      "cell_type": "code",
      "source": [
        "m=3.33\n",
        "print(type(m))"
      ],
      "metadata": {
        "colab": {
          "base_uri": "https://localhost:8080/"
        },
        "id": "VUjKhqBtXgvL",
        "outputId": "75ead985-038e-45e2-e79f-299af4ec4d7b"
      },
      "execution_count": 24,
      "outputs": [
        {
          "output_type": "stream",
          "name": "stdout",
          "text": [
            "<class 'float'>\n"
          ]
        }
      ]
    },
    {
      "cell_type": "code",
      "source": [
        "sumit=11.345\n",
        "print(type(sumit))"
      ],
      "metadata": {
        "colab": {
          "base_uri": "https://localhost:8080/"
        },
        "id": "dFldmoaDXl2T",
        "outputId": "56d280da-eb23-4a18-a745-18eb88ebcc6f"
      },
      "execution_count": 25,
      "outputs": [
        {
          "output_type": "stream",
          "name": "stdout",
          "text": [
            "<class 'float'>\n"
          ]
        }
      ]
    },
    {
      "cell_type": "code",
      "source": [
        "first =\"BK\"\n",
        "second =\"college\"\n",
        "print(((first+\" \"+second)+\"\\n\")*5)"
      ],
      "metadata": {
        "colab": {
          "base_uri": "https://localhost:8080/"
        },
        "id": "O_icH3l7cjTe",
        "outputId": "373d10cd-e8ef-442b-b794-0acc48bd0459"
      },
      "execution_count": 86,
      "outputs": [
        {
          "output_type": "stream",
          "name": "stdout",
          "text": [
            "BK college\n",
            "BK college\n",
            "BK college\n",
            "BK college\n",
            "BK college\n",
            "\n"
          ]
        }
      ]
    },
    {
      "cell_type": "code",
      "source": [
        "Name =\"python programming language\"\n",
        "print(Name[5])\n",
        "print(Name[-2])\n",
        "print(Name[6])\n",
        "print(Name[3:14])"
      ],
      "metadata": {
        "colab": {
          "base_uri": "https://localhost:8080/"
        },
        "id": "6OEulEk0mm3W",
        "outputId": "8ac3129a-413c-41c2-d1bd-dfa61fd5ea88"
      },
      "execution_count": 91,
      "outputs": [
        {
          "output_type": "stream",
          "name": "stdout",
          "text": [
            "n\n",
            "g\n",
            " \n",
            "hon program\n",
            "python programming l\n"
          ]
        }
      ]
    },
    {
      "cell_type": "code",
      "source": [
        "Name =\"python programmig languages\"\n",
        "print(Name[6:])\n",
        "print(Name[:-1])\n",
        "print(Name[-22:-4])\n",
        "print(Name[::1])\n",
        "print(Name[::2])\n",
        "print(Name[::-1])\n",
        "print(Name[::-3])"
      ],
      "metadata": {
        "colab": {
          "base_uri": "https://localhost:8080/"
        },
        "id": "iO1i7o3SoJ2j",
        "outputId": "67056100-f679-41d2-d7b3-13db79b698d5"
      },
      "execution_count": 102,
      "outputs": [
        {
          "output_type": "stream",
          "name": "stdout",
          "text": [
            " programmig languages\n",
            "python programmig language\n",
            "n programmig langu\n",
            "python programmig languages\n",
            "pto rgamglnugs\n",
            "segaugnal gimmargorp nohtyp\n",
            "san mrrnt\n"
          ]
        }
      ]
    },
    {
      "cell_type": "code",
      "source": [
        "Details='''multi line comments\n",
        "hi,Good Morning\n",
        "'''\n",
        "print(Details)"
      ],
      "metadata": {
        "colab": {
          "base_uri": "https://localhost:8080/"
        },
        "id": "-Zvr7mzfsd9I",
        "outputId": "449f245b-9ecf-496b-9a6f-9bdc2d1b8d21"
      },
      "execution_count": 106,
      "outputs": [
        {
          "output_type": "stream",
          "name": "stdout",
          "text": [
            "multi line comments\n",
            "hi,Good Morning\n",
            "\n"
          ]
        }
      ]
    },
    {
      "cell_type": "code",
      "source": [
        "Roll=1,2,3,4,5,6,7,8,9,10,11,12,13,14,15,16,17,18,19,20,21,2,23,24,25,26,27,28,29,30,31,32,33,34,35,36,37,38,39,40,41,42,43,44,45,46,47,48,49,50,51,52,53,54,55,56,57,58,59,60\n",
        "print(Roll)"
      ],
      "metadata": {
        "colab": {
          "base_uri": "https://localhost:8080/"
        },
        "id": "89JjUdlRuBen",
        "outputId": "f78862b5-6fff-4726-de4f-06159f93a3e8"
      },
      "execution_count": 115,
      "outputs": [
        {
          "output_type": "stream",
          "name": "stdout",
          "text": [
            "(1, 2, 3, 4, 5, 6, 7, 8, 9, 10, 11, 12, 13, 14, 15, 16, 17, 18, 19, 20, 21, 2, 23, 24, 25, 26, 27, 28, 29, 30, 31, 32, 33, 34, 35, 36, 37, 38, 39, 40, 41, 42, 43, 44, 45, 46, 47, 48, 49, 50, 51, 52, 53, 54, 55, 56, 57, 58, 59, 60)\n"
          ]
        }
      ]
    }
  ]
}